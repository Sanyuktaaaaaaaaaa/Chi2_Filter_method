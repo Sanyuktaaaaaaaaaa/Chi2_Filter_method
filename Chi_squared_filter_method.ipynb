{
  "nbformat": 4,
  "nbformat_minor": 0,
  "metadata": {
    "colab": {
      "provenance": []
    },
    "kernelspec": {
      "name": "python3",
      "display_name": "Python 3"
    },
    "language_info": {
      "name": "python"
    }
  },
  "cells": [
    {
      "cell_type": "markdown",
      "source": [],
      "metadata": {
        "id": "MXDyQ-BhZ-K2"
      }
    },
    {
      "cell_type": "markdown",
      "source": [],
      "metadata": {
        "id": "menWuCdraPzs"
      }
    },
    {
      "cell_type": "markdown",
      "source": [
        "Filter Methods for feature selection"
      ],
      "metadata": {
        "id": "pr1SHZNraSzD"
      }
    },
    {
      "cell_type": "code",
      "source": [
        "#Chi-Square\n",
        "#import Libraries\n",
        "from sklearn.datasets import load_iris\n",
        "from sklearn.feature_selection import SelectKBest\n",
        "from sklearn.feature_selection import chi2\n",
        "\n",
        "#load iris data\n",
        "Iris_dataset=load_iris()\n",
        "\n",
        "#Create features and target\n",
        "X=Iris_dataset.data\n",
        "Y=Iris_dataset.target\n",
        "\n",
        "#Convert to categorical data by converting data into integers\n",
        "X=X.astype(int)\n",
        "\n",
        "#Two features with highest chi-squared statistics are selected\n",
        "chi2_features=SelectKBest(chi2,k=2)\n",
        "best_features=chi2_features.fit_transform(X,Y)\n"
      ],
      "metadata": {
        "id": "8tiYbN_RaXfx"
      },
      "execution_count": 5,
      "outputs": []
    },
    {
      "cell_type": "code",
      "source": [],
      "metadata": {
        "id": "KSkIbuRSbShj"
      },
      "execution_count": null,
      "outputs": []
    }
  ]
}